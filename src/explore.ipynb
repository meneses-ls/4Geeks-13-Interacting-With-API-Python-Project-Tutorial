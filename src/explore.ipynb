{
    "cells": [
        {
            "cell_type": "markdown",
            "metadata": {},
            "source": [
                "# Exploración:"
            ]
        },
        {
            "cell_type": "markdown",
            "metadata": {},
            "source": [
                "Verificación de que el .env funcione bien:"
            ]
        },
        {
            "cell_type": "code",
            "execution_count": 19,
            "metadata": {},
            "outputs": [],
            "source": [
                "# - Importación de librerías:\n",
                "\n",
                "import os\n",
                "from dotenv import load_dotenv\n",
                "\n",
                "# - Cargar variables de entorno:\n",
                "\n",
                "load_dotenv()\n",
                "\n",
                "# - Obtener credenciales desde .env:\n",
                "\n",
                "client_id = os.environ.get(\"CLIENT_ID\")\n",
                "client_secret = os.environ.get(\"CLIENT_SECRET\")"
            ]
        },
        {
            "cell_type": "markdown",
            "metadata": {},
            "source": [
                "Hacer la petición, ver que funcione, corregir sino:"
            ]
        },
        {
            "cell_type": "code",
            "execution_count": 20,
            "metadata": {},
            "outputs": [],
            "source": [
                "# - Importación de librerías:\n",
                "\n",
                "import spotipy\n",
                "from spotipy.oauth2 import SpotifyClientCredentials\n",
                "\n",
                "# Autenticación usando las credenciales cargadas desde .env:\n",
                "\n",
                "auth_manager = SpotifyClientCredentials(client_id=client_id, client_secret=client_secret)\n",
                "spotify = spotipy.Spotify(auth_manager=auth_manager)\n",
                "\n",
                "# - Extracción de Canciones Populares del Artista:\n",
                "\n",
                "artist_id = \"6XyY86QOPPrYVGvF9ch6wz\"\n",
                "results = spotify.artist_top_tracks(artist_id)\n",
                "\n",
                "# - Procesamiento de Datos:\n",
                "\n",
                "songs = []\n",
                "for track in results['tracks']:\n",
                "    songs.append({\n",
                "        'name': track['name'],\n",
                "        'popularity': track['popularity'],\n",
                "        'duration_min': track['duration_ms'] / 60000\n",
                "    })"
            ]
        },
        {
            "cell_type": "markdown",
            "metadata": {},
            "source": [
                "Si funcionó, crear el DataFrame empleando a Pandas:"
            ]
        },
        {
            "cell_type": "code",
            "execution_count": 21,
            "metadata": {},
            "outputs": [
                {
                    "data": {
                        "text/html": [
                            "<div>\n",
                            "<style scoped>\n",
                            "    .dataframe tbody tr th:only-of-type {\n",
                            "        vertical-align: middle;\n",
                            "    }\n",
                            "\n",
                            "    .dataframe tbody tr th {\n",
                            "        vertical-align: top;\n",
                            "    }\n",
                            "\n",
                            "    .dataframe thead th {\n",
                            "        text-align: right;\n",
                            "    }\n",
                            "</style>\n",
                            "<table border=\"1\" class=\"dataframe\">\n",
                            "  <thead>\n",
                            "    <tr style=\"text-align: right;\">\n",
                            "      <th></th>\n",
                            "      <th>name</th>\n",
                            "      <th>popularity</th>\n",
                            "      <th>duration_min</th>\n",
                            "    </tr>\n",
                            "  </thead>\n",
                            "  <tbody>\n",
                            "    <tr>\n",
                            "      <th>0</th>\n",
                            "      <td>Numb</td>\n",
                            "      <td>90</td>\n",
                            "      <td>3.125333</td>\n",
                            "    </tr>\n",
                            "    <tr>\n",
                            "      <th>1</th>\n",
                            "      <td>In the End</td>\n",
                            "      <td>89</td>\n",
                            "      <td>3.614667</td>\n",
                            "    </tr>\n",
                            "    <tr>\n",
                            "      <th>2</th>\n",
                            "      <td>The Emptiness Machine</td>\n",
                            "      <td>85</td>\n",
                            "      <td>3.173783</td>\n",
                            "    </tr>\n",
                            "    <tr>\n",
                            "      <th>3</th>\n",
                            "      <td>Faint</td>\n",
                            "      <td>86</td>\n",
                            "      <td>2.701767</td>\n",
                            "    </tr>\n",
                            "    <tr>\n",
                            "      <th>4</th>\n",
                            "      <td>Up From the Bottom</td>\n",
                            "      <td>85</td>\n",
                            "      <td>3.053717</td>\n",
                            "    </tr>\n",
                            "    <tr>\n",
                            "      <th>5</th>\n",
                            "      <td>One Step Closer</td>\n",
                            "      <td>85</td>\n",
                            "      <td>2.622217</td>\n",
                            "    </tr>\n",
                            "    <tr>\n",
                            "      <th>6</th>\n",
                            "      <td>Heavy Is the Crown</td>\n",
                            "      <td>82</td>\n",
                            "      <td>2.783533</td>\n",
                            "    </tr>\n",
                            "    <tr>\n",
                            "      <th>7</th>\n",
                            "      <td>What I've Done</td>\n",
                            "      <td>84</td>\n",
                            "      <td>3.420433</td>\n",
                            "    </tr>\n",
                            "    <tr>\n",
                            "      <th>8</th>\n",
                            "      <td>Somewhere I Belong</td>\n",
                            "      <td>75</td>\n",
                            "      <td>3.565550</td>\n",
                            "    </tr>\n",
                            "    <tr>\n",
                            "      <th>9</th>\n",
                            "      <td>Crawling</td>\n",
                            "      <td>82</td>\n",
                            "      <td>3.482667</td>\n",
                            "    </tr>\n",
                            "  </tbody>\n",
                            "</table>\n",
                            "</div>"
                        ],
                        "text/plain": [
                            "                    name  popularity  duration_min\n",
                            "0                   Numb          90      3.125333\n",
                            "1             In the End          89      3.614667\n",
                            "2  The Emptiness Machine          85      3.173783\n",
                            "3                  Faint          86      2.701767\n",
                            "4     Up From the Bottom          85      3.053717\n",
                            "5        One Step Closer          85      2.622217\n",
                            "6     Heavy Is the Crown          82      2.783533\n",
                            "7         What I've Done          84      3.420433\n",
                            "8     Somewhere I Belong          75      3.565550\n",
                            "9               Crawling          82      3.482667"
                        ]
                    },
                    "execution_count": 21,
                    "metadata": {},
                    "output_type": "execute_result"
                }
            ],
            "source": [
                "# - Importación de librerías:\n",
                "\n",
                "import pandas as pd\n",
                "\n",
                "# - Conversión a DataFrame:\n",
                "\n",
                "tracks_df = pd.DataFrame(songs)\n",
                "tracks_df"
            ]
        },
        {
            "cell_type": "code",
            "execution_count": 22,
            "metadata": {},
            "outputs": [
                {
                    "data": {
                        "image/png": "[encoded data removed]",
                        "text/plain": [
                            "<Figure size 640x480 with 1 Axes>"
                        ]
                    },
                    "metadata": {},
                    "output_type": "display_data"
                }
            ],
            "source": [
                "# - Importación de librerías:\n",
                "\n",
                "import matplotlib.pyplot as plt\n",
                "\n",
                "# - Parámetros de graficación:\n",
                "\n",
                "plt.scatter(tracks_df['duration_min'], tracks_df['popularity'])\n",
                "plt.xlabel(\"Duración\")\n",
                "plt.ylabel(\"Popularidad\")\n",
                "plt.title(\"Relación Entre: Duración & Popularidad\")\n",
                "plt.grid(True)\n",
                "\n",
                "# - Visualización de gráfico:\n",
                "\n",
                "plt.show()"
            ]
        },
        {
            "cell_type": "markdown",
            "metadata": {},
            "source": [
                "No hay una patrón destacable como una resemblanza de línea, por consiguiente, se infiere que no hay correlación entre la popularidad de una canción y su duración."
            ]
        }
    ],
    "metadata": {
        "kernelspec": {
            "display_name": "Python 3",
            "language": "python",
            "name": "python3"
        },
        "language_info": {
            "codemirror_mode": {
                "name": "ipython",
                "version": 3
            },
            "file_extension": ".py",
            "mimetype": "text/x-python",
            "name": "python",
            "nbconvert_exporter": "python",
            "pygments_lexer": "ipython3",
            "version": "3.13.1"
        },
        "orig_nbformat": 4
    },
    "nbformat": 4,
    "nbformat_minor": 2
}
